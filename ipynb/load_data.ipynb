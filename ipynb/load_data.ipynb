{
 "cells": [
  {
   "cell_type": "markdown",
   "id": "8c54b351-0c0a-46df-bdc0-e9070577ed6c",
   "metadata": {},
   "source": [
    "# Save Politeness Data to CSV "
   ]
  },
  {
   "cell_type": "markdown",
   "id": "bd152d59-f6c9-4248-b362-8d1222894750",
   "metadata": {},
   "source": [
    "### Imports and Functions"
   ]
  },
  {
   "cell_type": "code",
   "execution_count": 132,
   "id": "0592c3e4-1e9a-4413-8b72-002e05ce00aa",
   "metadata": {},
   "outputs": [],
   "source": [
    "import nltk\n",
    "import convokit\n",
    "import numpy as np\n",
    "from convokit import Corpus, download\n",
    "from nltk.tokenize import word_tokenize\n",
    "import pandas as pd\n",
    "import matplotlib.pyplot as plt\n"
   ]
  },
  {
   "cell_type": "code",
   "execution_count": 112,
   "id": "af50eb5f-755f-430b-b5df-26da76b17fe5",
   "metadata": {},
   "outputs": [
    {
     "name": "stdout",
     "output_type": "stream",
     "text": [
      "README.md \u001b[34mdata\u001b[m\u001b[m      \u001b[34mipynb\u001b[m\u001b[m     \u001b[34msrc\u001b[m\u001b[m\n"
     ]
    }
   ],
   "source": [
    "!ls"
   ]
  },
  {
   "cell_type": "code",
   "execution_count": 84,
   "id": "a6260a41-0056-4eec-a939-2cd9e1718dd3",
   "metadata": {},
   "outputs": [],
   "source": [
    "def get_politeness_annotations(annotation_dict):\n",
    "    annotion_values = list(annotation_dict.values())\n",
    "    return annotion_values \n",
    "\n",
    "def tokenize_and_lowercase(utterance_str: str)->list:\n",
    "    token_list = word_tokenize(utterance_str)\n",
    "    lowercase_token_list = [str.lower(i) for i in token_list]\n",
    "    return lowercase_token_list\n",
    "\n",
    "def create_fil_df(df):\n",
    "    columns = [\"text\", \"tokenized_text\", \"avg_annotation\", \"politeness_std\", \"all_politeness_scores\", \"meta.Binary\"]\n",
    "    new_names = {\"text\": \"original_text\", \n",
    "                      \"avg_annotation\" : \"avg_politeness_score\", \n",
    "                     \"meta.Binary\": \"binary_politeness_score\"}\n",
    "    \n",
    "    fil_df = df[columns]\n",
    "    fil_df = fil_df.rename(columns = new_names)\n",
    "    return fil_df"
   ]
  },
  {
   "cell_type": "markdown",
   "id": "21907052-af82-4c15-9fa6-935a2d6fa4cb",
   "metadata": {},
   "source": [
    "## Loading, Processing, and Saving"
   ]
  },
  {
   "cell_type": "markdown",
   "id": "903e7113-d8bd-4ee6-93e4-2d37690eddb5",
   "metadata": {},
   "source": [
    "Processing to do: \n",
    "- <s>Split text into tokens</s>\n",
    "- Transform tokens into embeddings\n",
    "- <s>Get original scores</s>\n",
    "- <s>Filter to necessary columns</s>\n",
    "- <s>Rename columns, reset_index</s>\n",
    "- <s> save final df to csv in data folder </s>"
   ]
  },
  {
   "cell_type": "code",
   "execution_count": 107,
   "id": "da59ee64-6dc5-4e78-a0b1-7fab1420b83e",
   "metadata": {},
   "outputs": [
    {
     "name": "stdout",
     "output_type": "stream",
     "text": [
      "Dataset already exists at /Users/ryanrodriguez/.convokit/downloads/wikipedia-politeness-corpus\n",
      "Dataset already exists at /Users/ryanrodriguez/.convokit/downloads/stack-exchange-politeness-corpus\n"
     ]
    },
    {
     "data": {
      "text/html": [
       "<div>\n",
       "<style scoped>\n",
       "    .dataframe tbody tr th:only-of-type {\n",
       "        vertical-align: middle;\n",
       "    }\n",
       "\n",
       "    .dataframe tbody tr th {\n",
       "        vertical-align: top;\n",
       "    }\n",
       "\n",
       "    .dataframe thead th {\n",
       "        text-align: right;\n",
       "    }\n",
       "</style>\n",
       "<table border=\"1\" class=\"dataframe\">\n",
       "  <thead>\n",
       "    <tr style=\"text-align: right;\">\n",
       "      <th></th>\n",
       "      <th>timestamp</th>\n",
       "      <th>text</th>\n",
       "      <th>speaker</th>\n",
       "      <th>reply_to</th>\n",
       "      <th>conversation_id</th>\n",
       "      <th>meta.Normalized Score</th>\n",
       "      <th>meta.Binary</th>\n",
       "      <th>meta.Annotations</th>\n",
       "      <th>meta.parsed</th>\n",
       "      <th>vectors</th>\n",
       "    </tr>\n",
       "  </thead>\n",
       "  <tbody>\n",
       "    <tr>\n",
       "      <th>0</th>\n",
       "      <td>NOT_RECORDED</td>\n",
       "      <td>Where did you learn English? How come you're t...</td>\n",
       "      <td>user</td>\n",
       "      <td>None</td>\n",
       "      <td>629705</td>\n",
       "      <td>-1.120049</td>\n",
       "      <td>-1</td>\n",
       "      <td>{'A2UFD1I8ZO1V4G': 13, 'A2YFPO0N4GIS25': 9, 'A...</td>\n",
       "      <td>[{'rt': 3, 'toks': [{'tok': 'Where', 'tag': 'W...</td>\n",
       "      <td>[]</td>\n",
       "    </tr>\n",
       "    <tr>\n",
       "      <th>1</th>\n",
       "      <td>NOT_RECORDED</td>\n",
       "      <td>Thanks very much for your edit to the &lt;url&gt; ar...</td>\n",
       "      <td>user</td>\n",
       "      <td>None</td>\n",
       "      <td>244336</td>\n",
       "      <td>1.313955</td>\n",
       "      <td>1</td>\n",
       "      <td>{'A2QN0EGBRGJU1M': 23, 'A2GSW5RBAT5LQ5': 16, '...</td>\n",
       "      <td>[{'rt': 0, 'toks': [{'tok': 'Thanks', 'tag': '...</td>\n",
       "      <td>[]</td>\n",
       "    </tr>\n",
       "    <tr>\n",
       "      <th>2</th>\n",
       "      <td>NOT_RECORDED</td>\n",
       "      <td>Sir i think u hav many friends on wiki who can...</td>\n",
       "      <td>user</td>\n",
       "      <td>None</td>\n",
       "      <td>627353</td>\n",
       "      <td>-0.247941</td>\n",
       "      <td>0</td>\n",
       "      <td>{'A233ONYNWKDIYF': 17, 'A2UFD1I8ZO1V4G': 17, '...</td>\n",
       "      <td>[{'rt': 2, 'toks': [{'tok': 'Sir', 'tag': 'NNP...</td>\n",
       "      <td>[]</td>\n",
       "    </tr>\n",
       "  </tbody>\n",
       "</table>\n",
       "</div>"
      ],
      "text/plain": [
       "      timestamp                                               text speaker  \\\n",
       "0  NOT_RECORDED  Where did you learn English? How come you're t...    user   \n",
       "1  NOT_RECORDED  Thanks very much for your edit to the <url> ar...    user   \n",
       "2  NOT_RECORDED  Sir i think u hav many friends on wiki who can...    user   \n",
       "\n",
       "  reply_to conversation_id meta.Normalized Score meta.Binary  \\\n",
       "0     None          629705             -1.120049          -1   \n",
       "1     None          244336              1.313955           1   \n",
       "2     None          627353             -0.247941           0   \n",
       "\n",
       "                                    meta.Annotations  \\\n",
       "0  {'A2UFD1I8ZO1V4G': 13, 'A2YFPO0N4GIS25': 9, 'A...   \n",
       "1  {'A2QN0EGBRGJU1M': 23, 'A2GSW5RBAT5LQ5': 16, '...   \n",
       "2  {'A233ONYNWKDIYF': 17, 'A2UFD1I8ZO1V4G': 17, '...   \n",
       "\n",
       "                                         meta.parsed vectors  \n",
       "0  [{'rt': 3, 'toks': [{'tok': 'Where', 'tag': 'W...      []  \n",
       "1  [{'rt': 0, 'toks': [{'tok': 'Thanks', 'tag': '...      []  \n",
       "2  [{'rt': 2, 'toks': [{'tok': 'Sir', 'tag': 'NNP...      []  "
      ]
     },
     "execution_count": 107,
     "metadata": {},
     "output_type": "execute_result"
    }
   ],
   "source": [
    "wiki_corpus = Corpus(filename=download(\"wikipedia-politeness-corpus\"))\n",
    "stack_corpus = Corpus(filename=download(\"stack-exchange-politeness-corpus\"))\n",
    "\n",
    "wiki_df = wiki_corpus.get_utterances_dataframe()\n",
    "stack_df = stack_corpus.get_utterances_dataframe()\n",
    "corpus_df = pd.concat([wiki_df, stack_df]).reset_index().drop(columns = \"id\")\n",
    "\n",
    "corpus_df.head(3)"
   ]
  },
  {
   "cell_type": "code",
   "execution_count": 113,
   "id": "a9809f0a-b6cb-418b-a73b-ccf52f5038b0",
   "metadata": {},
   "outputs": [],
   "source": [
    "corpus_df[\"all_politeness_scores\"] = corpus_df[\"meta.Annotations\"].apply(get_politeness_annotations)\n",
    "corpus_df[\"avg_annotation\"] = corpus_df[\"all_politeness_scores\"].apply(np.mean)\n",
    "corpus_df['politeness_std'] = corpus_df['all_politeness_scores'].apply(np.std)\n",
    "corpus_df[\"tokenized_text\"] = corpus_df[\"text\"].apply(tokenize_and_lowercase)\n",
    "fil_df = create_fil_df(corpus_df)\n",
    "# fil_df.to_csv(\"../data/politeness_data.csv\", index=False)"
   ]
  },
  {
   "cell_type": "markdown",
   "id": "8992a74a-68b1-4509-9aab-355eb955a527",
   "metadata": {},
   "source": [
    "## Examples"
   ]
  },
  {
   "cell_type": "code",
   "execution_count": 147,
   "id": "5f0d7987-65f6-49aa-a207-c940d5d99128",
   "metadata": {},
   "outputs": [
    {
     "data": {
      "image/png": "[encoded data removed]",
      "text/plain": [
       "<Figure size 2000x600 with 2 Axes>"
      ]
     },
     "metadata": {},
     "output_type": "display_data"
    }
   ],
   "source": [
    "fig, axs = plt.subplots(1, 2, figsize = (20, 6))\n",
    "\n",
    "axs[0].hist(fil_df[\"avg_politeness_score\"])\n",
    "axs[0].set_title(\"Distribution of Avg Scores\")\n",
    "\n",
    "axs[1].hist(fil_df[\"politeness_std\"])\n",
    "axs[1].set_title(\"Distribution of Politeness STD (5 ratings per utterance)\")\n",
    "\n",
    "plt.show()"
   ]
  },
  {
   "cell_type": "code",
   "execution_count": 126,
   "id": "24b8d85c-32b6-4653-b584-b25386f2dcf5",
   "metadata": {},
   "outputs": [
    {
     "name": "stdout",
     "output_type": "stream",
     "text": [
      "Most Impolite Comments:\n",
      "Text: Phones generally don't even ring for more than 30 seconds. Why do you want to do this?\n",
      "Avg Score: 1.2\n",
      "All Scores: [1, 1, 2, 1, 1]\n",
      "\n",
      "Text: Are you crazy down here?! What the heck is going on?\n",
      "Avg Score: 1.2\n",
      "All Scores: [1, 1, 1, 2, 1]\n",
      "\n",
      "Text: What part of \"use common sense\" did not get through to you? Was it the \"use,\" the \"common,\" the \"sense,\" or some combination thereafter?\n",
      "Avg Score: 1.4\n",
      "All Scores: [3, 1, 1, 1, 1]\n",
      "\n",
      "Text: WTF? Downvotes? What for?\n",
      "Avg Score: 1.6\n",
      "All Scores: [2, 1, 3, 1, 1]\n",
      "\n",
      "Text: I wasn't sure whether you were actually reading anything because facts seem to bounce off of you like bullets off of Superman. And you accuse ''me'' of fantasies?\n",
      "Avg Score: 1.8\n",
      "All Scores: [3, 3, 1, 1, 1]\n",
      "\n",
      "Text: And this is why you're asking all the stupid questions?\n",
      "Avg Score: 1.8\n",
      "All Scores: [5, 1, 1, 1, 1]\n",
      "\n",
      "Text: I'd like to know why someone voted to close this as Off-Topic.  Can you please explain your reasoning?\n",
      "Avg Score: 1.8\n",
      "All Scores: [1, 1, 1, 5, 1]\n",
      "\n",
      "Text: Career advice questions like this one are too localized for this site. Please see [Are Career Advice questions useful for anyone except the poster](http://meta.programmers.stackexchange.com/questions/588/are-career-advice-questions-useful-to-anyone-except-the-poster/590#590)?\n",
      "Avg Score: 1.8\n",
      "All Scores: [1, 5, 1, 1, 1]\n",
      "\n",
      "Text: WHADDAFUCK YA GONNA DO TO ME, HUH BITCH!?????????\n",
      "Avg Score: 1.8\n",
      "All Scores: [1, 1, 1, 1, 5]\n",
      "\n",
      "Text: You wouldn't be allowed to ask and post comments if you were not logged in. What kind of programmer are you?\n",
      "Avg Score: 2.4\n",
      "All Scores: [1, 1, 5, 1, 4]\n",
      "\n"
     ]
    }
   ],
   "source": [
    "print(\"Most Impolite Comments:\")\n",
    "text = list(fil_df.sort_values(\"avg_politeness_score\", ascending=True)[\"original_text\"])\n",
    "avg_score = list(fil_df.sort_values(\"avg_politeness_score\", ascending=True)[\"avg_politeness_score\"])\n",
    "scores = list(fil_df.sort_values(\"avg_politeness_score\", ascending=True)[\"all_politeness_scores\"])\n",
    "\n",
    "\n",
    "for i in range(10):\n",
    "    print(f\"Text: {text[i]}\")\n",
    "    print(f\"Avg Score: {avg_score[i]}\")\n",
    "    print(f\"All Scores: {scores[i]}\")     \n",
    "    print()"
   ]
  },
  {
   "cell_type": "code",
   "execution_count": 127,
   "id": "1ac84a1a-b50b-43db-9d2c-0dc1f615b438",
   "metadata": {},
   "outputs": [
    {
     "name": "stdout",
     "output_type": "stream",
     "text": [
      "Most Polite Comments:\n",
      "Text: Thank you much! May I call upon you if I make mistakes or need help, then, please?\n",
      "Avg Score: 24.2\n",
      "All Scores: [25, 21, 25, 25, 25]\n",
      "\n",
      "Text: Thank you for your kind comment.   Do you have a suggestion where the portals should be placed in the article?\n",
      "Avg Score: 23.6\n",
      "All Scores: [22, 25, 25, 25, 21]\n",
      "\n",
      "Text: I'm very impressed with your work getting Niagara County's NRHP list filled out with pictures and articles!  Did you take most of those new pictures yourself?\n",
      "Avg Score: 23.6\n",
      "All Scores: [25, 25, 21, 24, 23]\n",
      "\n",
      "Text: Good work on the canal junctions! Where appropriate, do you think we should give the nearest pedestrian access point, from the road (as opposed to canal) network?\n",
      "Avg Score: 23.4\n",
      "All Scores: [19, 25, 23, 25, 25]\n",
      "\n",
      "Text: Yes, my feeling is to err on the safe side here. Thanks for your comment, is it okay if I quote you on the commons thread?\n",
      "Avg Score: 23.2\n",
      "All Scores: [23, 21, 23, 25, 24]\n",
      "\n",
      "Text: Although I have yet to understand what some of your maps mean, they are superb! Have you ever considered professional cartography?\n",
      "Avg Score: 23.0\n",
      "All Scores: [25, 21, 21, 23, 25]\n",
      "\n",
      "Text: Wow, that is a great answer!  Thanks for the answer.  One more question for you though.  How can I tell what the float of the pedal is?\n",
      "Avg Score: 22.8\n",
      "All Scores: [22, 17, 25, 25, 25]\n",
      "\n",
      "Text: TSOP is a series of IR receivers by [Vishay](http://www.vishay.com/ir-receiver-modules/), here it doesn't mean \"thin small outline package\" or something like that. Right, gomek?\n",
      "Avg Score: 22.8\n",
      "All Scores: [25, 17, 25, 25, 22]\n",
      "\n",
      "Text: Good job working on the list, thanks. Could you make sure you move them from \"To do\" to \"Done\" when you finish?\n",
      "Avg Score: 22.6\n",
      "All Scores: [21, 25, 21, 25, 21]\n",
      "\n",
      "Text: Thankyou - best answer so far! Did you buy these shoes so you could ride in to work and wear them all day? or did you not fancy any of the 'Shimano golf shoes'?\n",
      "Avg Score: 22.6\n",
      "All Scores: [17, 25, 25, 25, 21]\n",
      "\n"
     ]
    }
   ],
   "source": [
    "print(\"Most Polite Comments:\")\n",
    "text = list(fil_df.sort_values(\"avg_politeness_score\", ascending=False)[\"original_text\"])\n",
    "avg_score = list(fil_df.sort_values(\"avg_politeness_score\", ascending=False)[\"avg_politeness_score\"])\n",
    "scores = list(fil_df.sort_values(\"avg_politeness_score\", ascending=False)[\"all_politeness_scores\"])\n",
    "\n",
    "\n",
    "for i in range(10):\n",
    "    print(f\"Text: {text[i]}\")\n",
    "    print(f\"Avg Score: {avg_score[i]}\")\n",
    "    print(f\"All Scores: {scores[i]}\")     \n",
    "    print()"
   ]
  },
  {
   "cell_type": "code",
   "execution_count": null,
   "id": "62dd8692-3653-4812-96cc-5f052ba446cd",
   "metadata": {},
   "outputs": [],
   "source": []
  },
  {
   "cell_type": "code",
   "execution_count": null,
   "id": "ccd8c95c-31c8-45c9-b1ae-92df1f7aff31",
   "metadata": {},
   "outputs": [],
   "source": []
  }
 ],
 "metadata": {
  "kernelspec": {
   "display_name": "Python 3 (ipykernel)",
   "language": "python",
   "name": "python3"
  },
  "language_info": {
   "codemirror_mode": {
    "name": "ipython",
    "version": 3
   },
   "file_extension": ".py",
   "mimetype": "text/x-python",
   "name": "python",
   "nbconvert_exporter": "python",
   "pygments_lexer": "ipython3",
   "version": "3.9.13"
  }
 },
 "nbformat": 4,
 "nbformat_minor": 5
}
